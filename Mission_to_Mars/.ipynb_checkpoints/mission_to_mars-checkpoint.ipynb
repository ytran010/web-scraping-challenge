{
 "cells": [
  {
   "cell_type": "code",
   "execution_count": 52,
   "metadata": {},
   "outputs": [],
   "source": [
    "from splinter import Browser\n",
    "from bs4 import BeautifulSoup as bs\n",
    "import requests\n",
    "from webdriver_manager.chrome import ChromeDriverManager"
   ]
  },
  {
   "cell_type": "markdown",
   "metadata": {},
   "source": [
    "## Step 1 - Scraping"
   ]
  },
  {
   "cell_type": "markdown",
   "metadata": {},
   "source": [
    "### NASA Mars News"
   ]
  },
  {
   "cell_type": "code",
   "execution_count": 53,
   "metadata": {},
   "outputs": [],
   "source": [
    "# Scrape the NASA Mars News Site and collect the latest News Title and Paragraph Text. Assign the text to variables that you can reference later.\n",
    "\n",
    "# Example:\n",
    "# news_title = \"NASA's Next Mars Mission to Investigate Interior of Red Planet\"\n",
    "\n",
    "# news_p = \"Preparation of NASA's next spacecraft to Mars, InSight, has ramped up this summer, on course for launch next May from Vandenberg Air Force Base in central California -- the first interplanetary launch in history from America's West Coast.\"\n"
   ]
  },
  {
   "cell_type": "code",
   "execution_count": 54,
   "metadata": {},
   "outputs": [
    {
     "name": "stderr",
     "output_type": "stream",
     "text": [
      "[WDM] - ====== WebDriver manager ======\n",
      "[WDM] - Current google-chrome version is 89.0.4389\n",
      "[WDM] - Get LATEST driver version for 89.0.4389\n",
      "[WDM] - Driver [/Users/petertran/.wdm/drivers/chromedriver/mac64/89.0.4389.23/chromedriver] found in cache\n"
     ]
    },
    {
     "name": "stdout",
     "output_type": "stream",
     "text": [
      "\n",
      "\n"
     ]
    }
   ],
   "source": [
    "executable_path = {'executable_path': ChromeDriverManager().install()}\n",
    "browser = Browser('chrome', **executable_path, headless=False)"
   ]
  },
  {
   "cell_type": "code",
   "execution_count": 55,
   "metadata": {},
   "outputs": [],
   "source": [
    "# URL of page to be scraped\n",
    "url = 'https://mars.nasa.gov/news/?page=0&per_page=40&order=publish_date+desc%2Ccreated_at+desc&search=&category=19%2C165%2C184%2C204&blank_scope=Latest'\n",
    "\n",
    "browser.visit(url)\n",
    "html = browser.html\n",
    "soup = bs(html, \"html.parser\")"
   ]
  },
  {
   "cell_type": "code",
   "execution_count": 56,
   "metadata": {},
   "outputs": [
    {
     "name": "stdout",
     "output_type": "stream",
     "text": [
      "Mars Now\n",
      "NASA's Perseverance Mars Rover Mission Honors Navajo Language\n",
      "Perseverance Rover's SuperCam Science Instrument Delivers First Results\n",
      "NASA's Perseverance Drives on Mars' Terrain for First Time\n",
      "Media Telecon Materials - March 5, 2021\n",
      "NASA Awards Mars Ascent Propulsion System Contract for Sample Return\n",
      "NASA to Provide Update on Perseverance ‘Firsts' Since Mars Landing \n",
      "Testing Proves Its Worth With Successful Mars Parachute Deployment\n",
      "NASA's Perseverance Rover Gives High-Definition Panoramic View of Landing Site\n",
      "Nearly 11 Million Names of Earthlings are on Mars Perseverance\n",
      "NASA's Mars Perseverance Rover Provides Front-Row Seat to Landing, First Audio Recording of Red Planet \n",
      "NASA to Reveal New Video, Images From Mars Perseverance Rover\n",
      "NASA's Mars Helicopter Reports In \n",
      "NASA's Perseverance Rover Sends Sneak Peek of Mars Landing\n",
      "Touchdown! NASA's Mars Perseverance Rover Safely Lands on Red Planet\n",
      "Searching for Life in NASA's Perseverance Mars Samples\n",
      "The Mars Relay Network Connects Us to NASA's Martian Explorers\n",
      "NASA's Next Mars Rover Is Ready for the Most Precise Landing Yet\n",
      "Sensors Prepare to Collect Data as Perseverance Enters Mars' Atmosphere\n",
      "InSight Is Meeting the Challenge of Winter on Dusty Mars\n",
      "NASA Invites Public to Share Thrill of Mars Perseverance Rover Landing\n",
      "Tricky Terrain: Helping to Assure a Safe Rover Landing\n",
      "Where Should Future Astronauts Land on Mars? Follow the Water\n",
      "NASA's Perseverance Pays Off Back Home\n",
      "Could the Surface of Phobos Reveal Secrets of the Martian Past?\n",
      "NASA's MAVEN Continues to Advance Mars Science and Telecommunications Relay Efforts\n",
      "NASA's Perseverance Rover 22 Days From Mars Landing\n",
      "6 Things to Know About NASA's Mars Helicopter on Its Way to Mars\n",
      "NASA to Host Virtual Briefing on February Perseverance Mars Rover Landing\n",
      "NASA InSight's ‘Mole' Ends Its Journey on Mars\n",
      "Mars 2020 Perseverance Rover to Capture Sounds From the Red Planet\n",
      "NASA's Curiosity Rover Reaches Its 3,000th Day on Mars\n",
      "Celebrate the Perseverance Rover Landing With NASA's Student Challenge\n",
      "NASA Extends Exploration for Two Planetary Science Missions\n",
      "7 Things to Know About the NASA Rover About to Land on Mars\n",
      "A Martian Roundtrip: NASA's Perseverance Rover Sample Tubes\n",
      "NASA Moves Forward With Campaign to Return Mars Samples to Earth\n",
      "3 Things We've Learned From NASA's Mars InSight \n",
      "From JPL's Mailroom to Mars and Beyond\n",
      "5 Hidden Gems Are Riding Aboard NASA's Perseverance Rover\n",
      "MOXIE Could Help Future Rockets Launch Off Mars\n",
      "\n",
      "\n",
      "NASA's Mars Perseverance Rover Provides Front-Row Seat to Landing, First Audio Recording of Red Planet \n",
      "\n",
      "\n",
      "\n",
      "\n",
      "NASA to Reveal New Video, Images From Mars Perseverance Rover\n",
      "\n",
      "\n",
      "\n",
      "\n",
      "NASA's Next Mars Rover Is Ready for the Most Precise Landing Yet\n",
      "\n",
      "\n",
      "\n",
      "\n",
      "NASA's Perseverance Drives on Mars' Terrain for First Time\n",
      "\n",
      "\n",
      "\n",
      "\n",
      "NASA Awards Mars Ascent Propulsion System Contract for Sample Return\n",
      "\n",
      "\n",
      "\n",
      "\n",
      "NASA to Provide Update on Perseverance ‘Firsts' Since Mars Landing \n",
      "\n",
      "\n",
      "\n",
      "\n",
      "NASA's Mars Perseverance Rover Provides Front-Row Seat to Landing, First Audio Recording of Red Planet \n",
      "\n",
      "\n",
      "\n",
      "\n",
      "NASA to Reveal New Video, Images From Mars Perseverance Rover\n",
      "\n",
      "\n",
      "\n",
      "\n",
      "NASA's Next Mars Rover Is Ready for the Most Precise Landing Yet\n",
      "\n",
      "\n",
      "\n",
      "\n",
      "NASA's Perseverance Drives on Mars' Terrain for First Time\n",
      "\n",
      "\n",
      "\n",
      "\n",
      "NASA Awards Mars Ascent Propulsion System Contract for Sample Return\n",
      "\n",
      "\n",
      "\n",
      "\n",
      "NASA to Provide Update on Perseverance ‘Firsts' Since Mars Landing \n",
      "\n",
      "\n"
     ]
    }
   ],
   "source": [
    "# Retrieve the parent divs for all articles\n",
    "news_title = soup.find_all('div', class_='content_title')\n",
    "for title in news_title:\n",
    "    print(title.text)"
   ]
  },
  {
   "cell_type": "code",
   "execution_count": 57,
   "metadata": {},
   "outputs": [
    {
     "name": "stdout",
     "output_type": "stream",
     "text": [
      "Working with the Navajo Nation, the rover team has named features on Mars with words from the Navajo language.\n",
      "Data from the powerful science tool includes sounds of its laser zapping a rock in order to test what it’s made of.\n",
      "The first trek of the agency’s largest, most advanced rover yet on the Red Planet marks a major milestone before science operations get under way.\n",
      "Mission team members are participating in a virtual teleconference to discuss milestones achieved so far since the Feb. 18 landing and those to come.\n",
      "The award moves NASA and ESA a step closer to realizing Mars Sample Return, an ambitious planetary exploration program that will build upon decades of science, knowledge, and experience.\n",
      "Mission team members are participating in a virtual teleconference to discuss milestones achieved so far since the Feb. 18 landing and those to come.\n",
      "The giant canopy that helped land Perseverance on Mars was tested here on Earth at NASA’s Wallops Flight Facility in Virginia.\n",
      "A 360-degree panorama taken by the rover’s Mastcam-Z instrument will be discussed during a public video chat this Thursday.\n",
      "When the Perseverance rover safely touched down on the Martian surface, inside Jezero Crater, on Feb. 18, 2021, it was also a safe landing for the nearly 11 million names on board.\n",
      "The agency’s newest rover captured first-of-its kind footage of its Feb. 18 touchdown and has recorded audio of Martian wind.\n",
      "\n",
      "\n",
      "First-of-its kind footage from the agency’s newest rover will be presented during a briefing this morning.\n",
      "The technology demonstration has phoned home from where it is attached to the belly of NASA’s Perseverance rover. \n",
      "The six-wheeled robot’s latest data since touching down yesterday include a hi-res image captured as the rover’s jetpack lowered it to the ground.\n",
      "The agency’s latest and most complex mission to the Red Planet has touched down at Jezero Crater. Now it’s time to begin testing the health of the rover.  \n",
      "When the agency’s newest rover mission searches for fossilized microscopic life on the Red Planet, how will scientists know whether they’ve found it?\n",
      "A tightly choreographed dance between NASA’s Deep Space Network and Mars orbiters will keep the agency’s Perseverance in touch with Earth during landing and beyond.\n",
      "What to expect when the Mars 2020 Perseverance rover arrives at the Red Planet on Feb. 18, 2021.\n",
      "Technology will collect critical data about the harsh entry environment during Perseverance’s entry next Thursday.\n",
      "As dust collects on the solar panels and winter comes to Elysium Planitia, the team is following a plan to reduce science operations in order to keep the lander safe.\n",
      "Mark your calendars for live landing commentary, news briefings, livestreamed Q&As, virtual watch parties, student activities, and more.\n",
      "How two new technologies will help Perseverance, NASA’s most sophisticated rover yet, touch down onto the surface of Mars this month.\n",
      "A new NASA paper provides the most detailed map to date of near-surface water ice on the Red Planet.\n",
      "Even as the Perseverance rover approaches Mars, technology on board is paying off on Earth.\n",
      "The Martian moon Phobos orbits through a stream of charged atoms and molecules that flow off the Red Planet’s atmosphere, new research shows.\n",
      "With a suite of new national and international spacecraft primed to explore the Red Planet after their arrival next month, NASA’s MAVEN mission is ready to provide support and continue its study of the Martian atmosphere.\n",
      "Seven minutes of harrowing descent to the Red Planet is in the not-so-distant future for the agency’s Mars 2020 mission.  \n",
      "Ingenuity, a technology experiment, is preparing to attempt the first powered, controlled flight on the Red Planet.\n",
      "NASA leadership and members of the mission will discuss the agency’s latest rover, which touches down on the Red Planet on Feb. 18.\n",
      "The heat probe hasn’t been able to gain the friction it needs to dig, but the mission has been granted an extension to carry on with its other science.\n",
      "Audio gathered by the mission may not sound quite the same on Mars as it would to our ears on Earth. A new interactive online experience lets you sample the difference.\n",
      "As the rover has continued to ascend Mount Sharp, it’s found distinctive benchlike rock formations.\n",
      "The rover touches down on the Red Planet next month, and students are invited to join the excitement by designing, building, and landing their own Mars mission. NASA can help.\n",
      "The missions – Juno and InSight – have each increased our understanding of our solar system, as well as spurred new sets of diverse questions.\n",
      "The Mars 2020 Perseverance rover, which has started its approach to the Red Planet, will help answer the next logical question in Mars exploration.\n",
      "Marvels of engineering, the rover's sample tubes must be tough enough to safely bring Red Planet samples on the long journey back to Earth in immaculate condition. \n",
      "During this next phase, the program will mature critical technologies and make critical design decisions as well as assess industry partnerships.\n",
      "Scientists are finding new mysteries since the geophysics mission landed two years ago.\n",
      "Bill Allen has thrived as the mechanical systems design lead for three Mars rover missions, but he got his start as a teenager sorting letters for the NASA center.\n",
      "The symbols, mottos, and small objects added to the agency's newest Mars rover serve a variety of purposes, from functional to decorative.\n",
      "NASA's Perseverance rover carries a device to convert Martian air into oxygen that, if produced on a larger scale, could be used not just for breathing, but also for fuel.\n"
     ]
    }
   ],
   "source": [
    "news_p = soup.find_all('div', class_='article_teaser_body')\n",
    "\n",
    "for p in news_p:\n",
    "    print(p.text)"
   ]
  },
  {
   "cell_type": "markdown",
   "metadata": {},
   "source": [
    "### JPL Mars Space Images - Featured Image\n",
    "\n",
    "\n"
   ]
  },
  {
   "cell_type": "code",
   "execution_count": 40,
   "metadata": {},
   "outputs": [
    {
     "ename": "IndexError",
     "evalue": "list index out of range",
     "output_type": "error",
     "traceback": [
      "\u001b[0;31m---------------------------------------------------------------------------\u001b[0m",
      "\u001b[0;31mIndexError\u001b[0m                                Traceback (most recent call last)",
      "\u001b[0;32m<ipython-input-40-92ad8a0f0ce6>\u001b[0m in \u001b[0;36m<module>\u001b[0;34m\u001b[0m\n\u001b[0;32m----> 1\u001b[0;31m \u001b[0mnews_paragraph\u001b[0m \u001b[0;34m=\u001b[0m \u001b[0msoup\u001b[0m\u001b[0;34m.\u001b[0m\u001b[0mfind_all\u001b[0m\u001b[0;34m(\u001b[0m\u001b[0;34m'div'\u001b[0m\u001b[0;34m,\u001b[0m \u001b[0mclass_\u001b[0m \u001b[0;34m=\u001b[0m \u001b[0;34m'article_teaser_body'\u001b[0m\u001b[0;34m)\u001b[0m\u001b[0;34m[\u001b[0m\u001b[0;36m0\u001b[0m\u001b[0;34m]\u001b[0m\u001b[0;34m.\u001b[0m\u001b[0mtext\u001b[0m\u001b[0;34m\u001b[0m\u001b[0;34m\u001b[0m\u001b[0m\n\u001b[0m\u001b[1;32m      2\u001b[0m \u001b[0mnews_paragraph\u001b[0m\u001b[0;34m\u001b[0m\u001b[0;34m\u001b[0m\u001b[0m\n",
      "\u001b[0;31mIndexError\u001b[0m: list index out of range"
     ]
    }
   ],
   "source": [
    "url = 'https://data-class-jpl-space.s3.amazonaws.com/JPL_Space/index.html'\n",
    "\n",
    "browser.visit(url)\n",
    "html = browser.html\n",
    "soup = BeautifulSoup(html, \"html.parser\")"
   ]
  },
  {
   "cell_type": "code",
   "execution_count": null,
   "metadata": {},
   "outputs": [],
   "source": []
  }
 ],
 "metadata": {
  "kernelspec": {
   "display_name": "Python 3",
   "language": "python",
   "name": "python3"
  },
  "language_info": {
   "codemirror_mode": {
    "name": "ipython",
    "version": 3
   },
   "file_extension": ".py",
   "mimetype": "text/x-python",
   "name": "python",
   "nbconvert_exporter": "python",
   "pygments_lexer": "ipython3",
   "version": "3.8.5"
  }
 },
 "nbformat": 4,
 "nbformat_minor": 4
}
